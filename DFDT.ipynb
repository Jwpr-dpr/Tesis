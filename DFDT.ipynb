{
 "cells": [
  {
   "cell_type": "markdown",
   "metadata": {},
   "source": [
    "# Método de Diferencias Finitas en el Dominio del Tiempo"
   ]
  },
  {
   "cell_type": "code",
   "execution_count": 3,
   "metadata": {},
   "outputs": [],
   "source": [
    "import numpy as np\n",
    "import matplotlib.pyplot as plt\n",
    "import scipy as sp"
   ]
  },
  {
   "cell_type": "code",
   "execution_count": 7,
   "metadata": {},
   "outputs": [],
   "source": [
    "a = 1e-6\n",
    "c = 3e8\n",
    "accuracyY = 10\n",
    "dy = a/accuracyY\n",
    "\n",
    "dt = 1/c/np.sqrt(1/dy**2)\n",
    "\n",
    "eps1 = 13\n",
    "eps2 = 1\n",
    "\n",
    "l1 = 0.5\n",
    "l2 = 1-l1\n",
    "\n",
    "tMax = 2e8\n",
    "numK = 0\n",
    "\n",
    "dt1 = c*dt/dy/eps1\n",
    "dt2 = c*dt/dy/eps2"
   ]
  },
  {
   "cell_type": "code",
   "execution_count": 9,
   "metadata": {},
   "outputs": [
    {
     "name": "stderr",
     "output_type": "stream",
     "text": [
      "C:\\Users\\Dell\\AppData\\Local\\Temp\\ipykernel_14352\\1289310066.py:13: ComplexWarning: Casting complex values to real discards the imaginary part\n",
      "  Ez[int(1*accuracyY/5)] += np.exp(-(t-0.5e-12)**2/1e-25) * 5 * np.exp(1j*5e15*t)\n",
      "C:\\Users\\Dell\\AppData\\Local\\Temp\\ipykernel_14352\\1289310066.py:14: ComplexWarning: Casting complex values to real discards the imaginary part\n",
      "  Hx[0] -= dt1*eps1*(Ez[0] - Ez[-1]*rotate)\n",
      "C:\\Users\\Dell\\AppData\\Local\\Temp\\ipykernel_14352\\1289310066.py:31: ComplexWarning: Casting complex values to real discards the imaginary part\n",
      "  Ez[-1] -= dt2*(Hx[0]/rotate - Hx[-1])\n"
     ]
    },
    {
     "ename": "IndexError",
     "evalue": "list index out of range",
     "output_type": "error",
     "traceback": [
      "\u001b[1;31m---------------------------------------------------------------------------\u001b[0m",
      "\u001b[1;31mIndexError\u001b[0m                                Traceback (most recent call last)",
      "\u001b[1;32m~\\AppData\\Local\\Temp\\ipykernel_14352\\1289310066.py\u001b[0m in \u001b[0;36m<module>\u001b[1;34m\u001b[0m\n\u001b[0;32m     57\u001b[0m         \u001b[0mplt\u001b[0m\u001b[1;33m.\u001b[0m\u001b[0mplot\u001b[0m\u001b[1;33m(\u001b[0m\u001b[0mnp\u001b[0m\u001b[1;33m.\u001b[0m\u001b[0mones\u001b[0m\u001b[1;33m(\u001b[0m\u001b[1;36m16\u001b[0m\u001b[1;33m)\u001b[0m\u001b[1;33m*\u001b[0m\u001b[0mK\u001b[0m\u001b[1;33m*\u001b[0m\u001b[0ma\u001b[0m\u001b[1;33m/\u001b[0m\u001b[0mnp\u001b[0m\u001b[1;33m.\u001b[0m\u001b[0mpi\u001b[0m\u001b[1;33m,\u001b[0m \u001b[0mnp\u001b[0m\u001b[1;33m.\u001b[0m\u001b[0mabs\u001b[0m\u001b[1;33m(\u001b[0m\u001b[0mwEigen\u001b[0m\u001b[1;33m[\u001b[0m\u001b[0mnumK\u001b[0m\u001b[1;33m-\u001b[0m\u001b[1;36m1\u001b[0m\u001b[1;33m]\u001b[0m\u001b[1;33m[\u001b[0m\u001b[1;33m:\u001b[0m\u001b[1;36m16\u001b[0m\u001b[1;33m]\u001b[0m\u001b[1;33m)\u001b[0m\u001b[1;33m*\u001b[0m\u001b[0ma\u001b[0m\u001b[1;33m/\u001b[0m\u001b[1;33m(\u001b[0m\u001b[1;36m2\u001b[0m\u001b[1;33m*\u001b[0m\u001b[0mc\u001b[0m\u001b[1;33m)\u001b[0m\u001b[1;33m,\u001b[0m \u001b[1;34m'o'\u001b[0m\u001b[1;33m,\u001b[0m \u001b[0mlinewidth\u001b[0m\u001b[1;33m=\u001b[0m\u001b[1;36m3\u001b[0m\u001b[1;33m)\u001b[0m\u001b[1;33m\u001b[0m\u001b[1;33m\u001b[0m\u001b[0m\n\u001b[0;32m     58\u001b[0m     \u001b[1;32melse\u001b[0m\u001b[1;33m:\u001b[0m\u001b[1;33m\u001b[0m\u001b[1;33m\u001b[0m\u001b[0m\n\u001b[1;32m---> 59\u001b[1;33m         \u001b[0mplt\u001b[0m\u001b[1;33m.\u001b[0m\u001b[0mplot\u001b[0m\u001b[1;33m(\u001b[0m\u001b[0mnp\u001b[0m\u001b[1;33m.\u001b[0m\u001b[0mones\u001b[0m\u001b[1;33m(\u001b[0m\u001b[0mwCount\u001b[0m\u001b[1;33m-\u001b[0m\u001b[1;36m1\u001b[0m\u001b[1;33m)\u001b[0m\u001b[1;33m*\u001b[0m\u001b[0mK\u001b[0m\u001b[1;33m*\u001b[0m\u001b[0ma\u001b[0m\u001b[1;33m/\u001b[0m\u001b[0mnp\u001b[0m\u001b[1;33m.\u001b[0m\u001b[0mpi\u001b[0m\u001b[1;33m,\u001b[0m \u001b[0mnp\u001b[0m\u001b[1;33m.\u001b[0m\u001b[0mabs\u001b[0m\u001b[1;33m(\u001b[0m\u001b[0mwEigen\u001b[0m\u001b[1;33m[\u001b[0m\u001b[0mnumK\u001b[0m\u001b[1;33m-\u001b[0m\u001b[1;36m1\u001b[0m\u001b[1;33m]\u001b[0m\u001b[1;33m)\u001b[0m\u001b[1;33m*\u001b[0m\u001b[0ma\u001b[0m\u001b[1;33m/\u001b[0m\u001b[1;33m(\u001b[0m\u001b[1;36m2\u001b[0m\u001b[1;33m*\u001b[0m\u001b[0mc\u001b[0m\u001b[1;33m)\u001b[0m\u001b[1;33m,\u001b[0m \u001b[1;34m'o'\u001b[0m\u001b[1;33m,\u001b[0m \u001b[0mlinewidth\u001b[0m\u001b[1;33m=\u001b[0m\u001b[1;36m3\u001b[0m\u001b[1;33m)\u001b[0m\u001b[1;33m\u001b[0m\u001b[1;33m\u001b[0m\u001b[0m\n\u001b[0m\u001b[0;32m     60\u001b[0m \u001b[1;33m\u001b[0m\u001b[0m\n\u001b[0;32m     61\u001b[0m     \u001b[1;31m# Marcar los ejes\u001b[0m\u001b[1;33m\u001b[0m\u001b[1;33m\u001b[0m\u001b[0m\n",
      "\u001b[1;31mIndexError\u001b[0m: list index out of range"
     ]
    },
    {
     "data": {
      "image/png": "[encoded data removed]",
      "text/plain": [
       "<Figure size 640x480 with 1 Axes>"
      ]
     },
     "metadata": {},
     "output_type": "display_data"
    }
   ],
   "source": [
    "wEigen = []\n",
    "\n",
    "# Bucle principal para K\n",
    "for K in np.arange(0, (1/20)*(np.pi/a), np.pi/a):\n",
    "    numK += 1\n",
    "    Ez = np.zeros(accuracyY)\n",
    "    Hx = np.zeros(accuracyY)\n",
    "    rotate = np.exp(1j * K * a)\n",
    "    Time = []\n",
    "\n",
    "    # Bucle para calcular la variación del campo en el tiempo\n",
    "    for t in np.arange(0, tMax*dt, dt):\n",
    "        Ez[int(1*accuracyY/5)] += np.exp(-(t-0.5e-12)**2/1e-25) * 5 * np.exp(1j*5e15*t)\n",
    "        Hx[0] -= dt1*eps1*(Ez[0] - Ez[-1]*rotate)\n",
    "\n",
    "        # Calcular componente magnético del campo\n",
    "        for coord in range(1, accuracyY):\n",
    "            if coord < accuracyY*l1:\n",
    "                Hx[coord] -= dt1*eps1*(Ez[coord] - Ez[coord-1])\n",
    "            else:\n",
    "                Hx[coord] -= dt2*eps2*(Ez[coord] - Ez[coord-1])\n",
    "\n",
    "        # Calcular componente eléctrico del campo\n",
    "        for coord in range(accuracyY-1):\n",
    "            if coord < accuracyY*l1:\n",
    "                Ez[coord] -= dt1*(Hx[coord+1] - Hx[coord])\n",
    "            else:\n",
    "                Ez[coord] -= dt2*(Hx[coord+1] - Hx[coord])\n",
    "\n",
    "        # Condiciones de contorno para el campo eléctrico\n",
    "        Ez[-1] -= dt2*(Hx[0]/rotate - Hx[-1])\n",
    "        Time.append(Ez[int(2*accuracyY/5)])\n",
    "\n",
    "    # Obtener imagen de Fourier de la respuesta de pulso dependiente del tiempo\n",
    "    fourier = np.abs(np.fft.fft(Time))\n",
    "    f = 2*np.pi/dt * np.arange(len(fourier)) / len(Time)\n",
    "    wCount = 1\n",
    "    wEigenRow = []\n",
    "\n",
    "    # Analizar el espectro de la respuesta de pulso\n",
    "    if fourier[0]/fourier[1] > 1.0001:\n",
    "        wEigenRow.append(f[0])\n",
    "        wCount += 1\n",
    "\n",
    "    # Procesar otros elementos del array fourier\n",
    "    for u in range(1, len(fourier)-1):\n",
    "        if fourier[u]/fourier[u-1] > 1.01 and fourier[u]/fourier[u+1] > 1.01:\n",
    "            wEigenRow.append(f[u])\n",
    "            wCount += 1\n",
    "\n",
    "    wEigen.append(wEigenRow)\n",
    "\n",
    "    # Mostrar los estados propios\n",
    "    plt.figure()\n",
    "    ax = plt.gca()\n",
    "    if wCount-1 >= 16:\n",
    "        plt.plot(np.ones(16)*K*a/np.pi, np.abs(wEigen[numK-1][:16])*a/(2*c), 'o', linewidth=3)\n",
    "    else:\n",
    "        plt.plot(np.ones(wCount-1)*K*a/np.pi, np.abs(wEigen[numK-1])*a/(2*c), 'o', linewidth=3)\n",
    "\n",
    "    # Marcar los ejes\n",
    "    plt.ylim([0, 0.6])\n",
    "    plt.xlim([-1, 1])\n",
    "    plt.xlabel('ka/2π', fontsize=20)\n",
    "    plt.ylabel('ωa / 2πc', fontsize=20)\n",
    "    plt.draw()\n",
    "    plt.pause(0.001)  # Necesario para actualizar la gráfica\n",
    "\n",
    "# Mostrar la gráfica final\n",
    "plt.show()\n"
   ]
  },
  {
   "cell_type": "code",
   "execution_count": null,
   "metadata": {},
   "outputs": [],
   "source": []
  }
 ],
 "metadata": {
  "kernelspec": {
   "display_name": "base",
   "language": "python",
   "name": "python3"
  },
  "language_info": {
   "codemirror_mode": {
    "name": "ipython",
    "version": 3
   },
   "file_extension": ".py",
   "mimetype": "text/x-python",
   "name": "python",
   "nbconvert_exporter": "python",
   "pygments_lexer": "ipython3",
   "version": "3.9.13"
  }
 },
 "nbformat": 4,
 "nbformat_minor": 2
}
