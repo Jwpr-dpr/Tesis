{
 "cells": [
  {
   "cell_type": "markdown",
   "metadata": {},
   "source": [
    "# Método de Diferencias Finitas en el Dominio del Tiempo"
   ]
  },
  {
   "cell_type": "code",
   "execution_count": 2,
   "metadata": {},
   "outputs": [],
   "source": [
    "import numpy as np\n",
    "import matplotlib.pyplot as plt\n",
    "import scipy as sp"
   ]
  },
  {
   "cell_type": "code",
   "execution_count": null,
   "metadata": {},
   "outputs": [],
   "source": [
    "a = 1e-6\n",
    "c = 3e8\n",
    "accuracyY = 10\n",
    "dy = a/accuracyY\n",
    "\n",
    "dt = 1/c/np.sqrt(1/dy**2)\n",
    "\n",
    "eps1 = 1\n",
    "eps2 = 9\n",
    "\n",
    "l1 = 0.3\n",
    "l2 = 1-l1\n",
    "\n",
    "tMax = 2**16\n",
    "numK = 0\n",
    "\n",
    "dt1 = c*dt/dy/eps1\n",
    "dt2 = c*dt/dy/eps2\n",
    "\n",
    "K = np.arange(0,np.pi/a,(1/20)*np.pi/a)\n"
   ]
  }
 ],
 "metadata": {
  "kernelspec": {
   "display_name": "base",
   "language": "python",
   "name": "python3"
  },
  "language_info": {
   "codemirror_mode": {
    "name": "ipython",
    "version": 3
   },
   "file_extension": ".py",
   "mimetype": "text/x-python",
   "name": "python",
   "nbconvert_exporter": "python",
   "pygments_lexer": "ipython3",
   "version": "3.9.13"
  }
 },
 "nbformat": 4,
 "nbformat_minor": 2
}
