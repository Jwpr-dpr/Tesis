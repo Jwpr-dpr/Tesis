{
 "cells": [
  {
   "cell_type": "markdown",
   "metadata": {},
   "source": [
    "## Método de Ondas Planas\n",
    "\n",
    "Programa para calcular la estructura de bandas de un cristal\n",
    "Fotónico 1D por medio del método de ondas planas PWE  \n",
    "Referencia: Photonics Crystals, Physics and practical modeling  \n",
    "Igor A. Sukhoivanov and Igor V. Guryev"
   ]
  },
  {
   "cell_type": "code",
   "execution_count": 2,
   "metadata": {},
   "outputs": [],
   "source": [
    "import numpy as np\n",
    "import matplotlib.pyplot as plt\n",
    "\n",
    "l1 = 0.3e-6\n",
    "l2 = 0.5e-6\n",
    "\n",
    "eps1 = 1\n",
    "eps2 = 9\n",
    "\n",
    "a = l1+l2\n",
    "numG = 100\n",
    "\n",
    "G  = np.arange(-numG* 2 * np.pi/a, numG * 2* np.pi/a, 2* np.pi/a)\n",
    "G1 = np.arange(-numG* 2 * np.pi/a, numG * 2* np.pi/a, 2* np.pi/a)\n",
    "chi = np.zeros((len(G),len(G1)),dtype = 'complex_')\n",
    "\n",
    "for i in range(len(G)):\n",
    "    for J in range(len(G1)):\n",
    "        if(G[i] - G1[J]) == 0:\n",
    "            chi[i,J] = 1/(l1+l2) * (1/eps1 * l1 + 1/eps2*l2)\n",
    "        else:\n",
    "            chi[i,J] = 1j /(l1+l2)/(G[i]-G1[J]) * ((1/eps1 * (np.exp(-1j * (G[i]-G1[J]) * l1) - 1)) + (1/eps2 * (np.exp(-1j * (G[i]-G1[J]) * (l1+l2)) - np.exp(-1j * (G[i]-G1[J])*l1))))\n"
   ]
  },
  {
   "cell_type": "code",
   "execution_count": 3,
   "metadata": {},
   "outputs": [
    {
     "name": "stdout",
     "output_type": "stream",
     "text": [
      "[[ 4.44444444e-01+0.00000000e+00j  1.00035146e-01+2.41506207e-01j\n",
      "  -7.07355303e-02+7.07355303e-02j ... -5.07792621e-04+2.10334590e-04j\n",
      "   7.14500306e-04+7.14500306e-04j -5.02689177e-04+1.21359903e-03j]\n",
      " [ 1.00035146e-01-2.41506207e-01j  4.44444444e-01+0.00000000e+00j\n",
      "   1.00035146e-01+2.41506207e-01j ...  1.41903707e-15+1.44358225e-03j\n",
      "  -5.07792621e-04+2.10334590e-04j  7.14500306e-04+7.14500306e-04j]\n",
      " [-7.07355303e-02-7.07355303e-02j  1.00035146e-01-2.41506207e-01j\n",
      "   4.44444444e-01+0.00000000e+00j ...  5.13000750e-04+2.12491868e-04j\n",
      "   1.41903707e-15+1.44358225e-03j -5.07792621e-04+2.10334590e-04j]\n",
      " ...\n",
      " [-5.07792621e-04-2.10334590e-04j  1.41903707e-15-1.44358225e-03j\n",
      "   5.13000750e-04-2.12491868e-04j ...  4.44444444e-01+0.00000000e+00j\n",
      "   1.00035146e-01+2.41506207e-01j -7.07355303e-02+7.07355303e-02j]\n",
      " [ 7.14500306e-04-7.14500306e-04j -5.07792621e-04-2.10334590e-04j\n",
      "   1.41903707e-15-1.44358225e-03j ...  1.00035146e-01-2.41506207e-01j\n",
      "   4.44444444e-01+0.00000000e+00j  1.00035146e-01+2.41506207e-01j]\n",
      " [-5.02689177e-04-1.21359903e-03j  7.14500306e-04-7.14500306e-04j\n",
      "  -5.07792621e-04-2.10334590e-04j ... -7.07355303e-02-7.07355303e-02j\n",
      "   1.00035146e-01-2.41506207e-01j  4.44444444e-01+0.00000000e+00j]]\n",
      "(200, 200)\n"
     ]
    }
   ],
   "source": [
    "print(chi)\n",
    "print(chi.shape)"
   ]
  },
  {
   "cell_type": "code",
   "execution_count": 4,
   "metadata": {},
   "outputs": [],
   "source": [
    "M = np.zeros((len(G),len(G1)),dtype = 'complex_')\n",
    "ks = np.linspace(-2*np.pi/a, 2*np.pi/a,100)\n",
    "Ks = list()\n",
    "dispe = list()\n"
   ]
  },
  {
   "cell_type": "code",
   "execution_count": 5,
   "metadata": {},
   "outputs": [],
   "source": [
    "for k in range(len(ks)):\n",
    "    for i in range(len(G)):\n",
    "        for j in range(len(G1)):\n",
    "            M[j,i] = chi[j,i] * (ks[k] + G1[j]) * (ks[k] + G[i])\n",
    "    V = np.linalg.eig(M)[0]\n",
    "    dispe.append(np.sqrt(np.sort(np.abs(V))) * a/2/np.pi)\n",
    "    Ks.append(ks[k] * a/np.pi)\n",
    "\n",
    "\n"
   ]
  },
  {
   "cell_type": "code",
   "execution_count": 6,
   "metadata": {},
   "outputs": [
    {
     "name": "stdout",
     "output_type": "stream",
     "text": [
      "[9.14733622e-08 3.72330997e-01 4.97823284e-01 8.39214166e-01\n",
      " 9.63236285e-01 1.33333543e+00 1.33732335e+00 1.70794969e+00\n",
      " 1.83487878e+00 2.17623245e+00 2.29878184e+00 2.66668346e+00\n",
      " 2.67458866e+00 3.04370656e+00 3.17184649e+00 3.51341527e+00\n",
      " 3.63421944e+00 4.00005731e+00 4.01204880e+00 4.37944660e+00\n",
      " 4.50901176e+00 4.85046622e+00 4.96973728e+00 5.33346993e+00\n",
      " 5.34933142e+00 5.71546217e+00 5.84598215e+00 6.18788012e+00\n",
      " 6.30510159e+00 6.66693812e+00 6.68701805e+00 7.05138009e+00\n",
      " 7.18333972e+00 7.52503802e+00 7.64063946e+00 8.00047403e+00\n",
      " 8.02439714e+00 8.38773966e+00 8.52038870e+00 8.86278741e+00\n",
      " 8.97598899e+00 9.33410479e+00 9.36242050e+00 9.72390783e+00\n",
      " 9.85804049e+00 1.02001395e+01 1.03116029e+01 1.06678364e+01\n",
      " 1.06999877e+01 1.10607226e+01 1.11952555e+01 1.15383598e+01\n",
      " 1.16470053e+01 1.20017214e+01 1.20384927e+01 1.23972412e+01\n",
      " 1.25333368e+01 1.28760189e+01 1.29827681e+01 1.33357449e+01\n",
      " 1.33763651e+01 1.37346636e+01 1.38708283e+01 1.42148960e+01\n",
      " 1.43183107e+01 1.46700182e+01 1.47155543e+01 1.50716815e+01\n",
      " 1.52095317e+01 1.55530224e+01 1.56543265e+01 1.60044701e+01\n",
      " 1.60538958e+01 1.64099314e+01 1.65474530e+01 1.68928274e+01\n",
      " 1.69901346e+01 1.73393436e+01 1.73940713e+01 1.77476869e+01\n",
      " 1.78870717e+01 1.82316712e+01 1.83265667e+01 1.86744312e+01\n",
      " 1.87331361e+01 1.90871002e+01 1.92256573e+01 1.95728243e+01\n",
      " 1.96628398e+01 2.00102683e+01 2.00747809e+01 2.04260090e+01\n",
      " 2.05666749e+01 2.09128186e+01 2.09999701e+01 2.13463339e+01\n",
      " 2.14150082e+01 2.17671383e+01 2.19063246e+01 2.22560260e+01\n",
      " 2.23370647e+01 2.26838210e+01 2.27589696e+01 2.31080077e+01\n",
      " 2.32496235e+01 2.35980216e+01 2.36754428e+01 2.40214968e+01\n",
      " 2.41012319e+01 2.44518652e+01 2.45911238e+01 2.49446041e+01\n",
      " 2.50141005e+01 2.53621153e+01 2.54492053e+01 2.57965204e+01\n",
      " 2.59385700e+01 2.62905915e+01 2.63550057e+01 2.67027969e+01\n",
      " 2.67956189e+01 2.71453126e+01 2.72838331e+01 2.76434380e+01\n",
      " 2.76972270e+01 2.80505011e+01 2.81518608e+01 2.84990412e+01\n",
      " 2.86405387e+01 2.89994938e+01 2.90448552e+01 2.93984638e+01\n",
      " 2.95097132e+01 2.98595702e+01 2.99964534e+01 3.03654666e+01\n",
      " 3.04014258e+01 3.07695197e+01 3.08927242e+01 3.12483769e+01\n",
      " 3.13907879e+01 3.17509797e+01 3.18069714e+01 3.21569560e+01\n",
      " 3.23385740e+01 3.27098834e+01 3.31579695e+01 3.36825173e+01\n",
      " 3.43356114e+01 3.58177664e+01 3.65389676e+01 3.82078095e+01\n",
      " 3.86558367e+01 4.04508578e+01 4.09879119e+01 4.27957875e+01\n",
      " 4.34689994e+01 4.52634204e+01 4.59552104e+01 4.77806648e+01\n",
      " 4.84147383e+01 5.03085398e+01 5.08425734e+01 5.28198899e+01\n",
      " 5.32632776e+01 5.52985980e+01 5.57208014e+01 5.77637270e+01\n",
      " 5.82250364e+01 6.02454952e+01 6.07522244e+01 6.27518503e+01\n",
      " 6.32832958e+01 6.52769713e+01 6.58088481e+01 6.78121331e+01\n",
      " 6.83253188e+01 7.03491659e+01 7.08336994e+01 7.28814133e+01\n",
      " 7.33389507e+01 7.54050990e+01 7.58475727e+01 7.79208660e+01\n",
      " 7.83633246e+01 8.04327903e+01 8.08849764e+01 8.29447456e+01\n",
      " 8.34082008e+01 8.54578200e+01 8.59286766e+01 8.79705035e+01\n",
      " 8.84440042e+01 9.04809628e+01 9.09544295e+01 9.29921266e+01\n",
      " 9.34627546e+01 9.55309368e+01 9.59753738e+01 9.85186293e+01]\n"
     ]
    }
   ],
   "source": [
    "print(dispe[0])"
   ]
  },
  {
   "cell_type": "code",
   "execution_count": 7,
   "metadata": {},
   "outputs": [
    {
     "data": {
      "image/png": "[encoded data removed]",
      "text/plain": [
       "<Figure size 640x480 with 1 Axes>"
      ]
     },
     "metadata": {},
     "output_type": "display_data"
    }
   ],
   "source": [
    "import matplotlib.pyplot as plt\n",
    "\n",
    "for i in range(len(Ks)):\n",
    "    plt.plot([Ks[i]] * len(dispe[i]), dispe[i],'.',color='black')\n",
    "    plt.xlim([-1,1])\n",
    "    plt.ylim([0,1.5])"
   ]
  },
  {
   "cell_type": "markdown",
   "metadata": {},
   "source": [
    "## Campo Eléctrico"
   ]
  },
  {
   "cell_type": "code",
   "execution_count": 50,
   "metadata": {},
   "outputs": [],
   "source": [
    "def Field(x):\n",
    "    global a, numG, k, Vs, in1\n",
    "    H = 0\n",
    "    countt = 0\n",
    "    for G in np.arange(-numG * 2 * np.pi / a, numG * 2 * np.pi / a + 0.0001, 2 * np.pi / a):\n",
    "        countt += 1\n",
    "        H += Vs[countt - 1, in1] * np.exp(1j * (k + G) * x)\n",
    "    return H"
   ]
  },
  {
   "cell_type": "code",
   "execution_count": 9,
   "metadata": {},
   "outputs": [
    {
     "ename": "ValueError",
     "evalue": "operands could not be broadcast together with shapes (200,200) (201,201) ",
     "output_type": "error",
     "traceback": [
      "\u001b[1;31m---------------------------------------------------------------------------\u001b[0m",
      "\u001b[1;31mValueError\u001b[0m                                Traceback (most recent call last)",
      "\u001b[1;32m~\\AppData\\Local\\Temp\\ipykernel_6944\\1725652631.py\u001b[0m in \u001b[0;36m<module>\u001b[1;34m\u001b[0m\n\u001b[0;32m     20\u001b[0m \u001b[1;33m\u001b[0m\u001b[0m\n\u001b[0;32m     21\u001b[0m \u001b[1;31m# Calcular M1 directamente usando operaciones vectorizadas\u001b[0m\u001b[1;33m\u001b[0m\u001b[1;33m\u001b[0m\u001b[0m\n\u001b[1;32m---> 22\u001b[1;33m \u001b[0mM1\u001b[0m \u001b[1;33m=\u001b[0m \u001b[0mchi\u001b[0m \u001b[1;33m*\u001b[0m \u001b[1;33m(\u001b[0m\u001b[0mk\u001b[0m \u001b[1;33m+\u001b[0m \u001b[0mG1_grid\u001b[0m\u001b[1;33m)\u001b[0m \u001b[1;33m*\u001b[0m \u001b[1;33m(\u001b[0m\u001b[0mk\u001b[0m \u001b[1;33m+\u001b[0m \u001b[0mG_grid\u001b[0m\u001b[1;33m)\u001b[0m\u001b[1;33m\u001b[0m\u001b[1;33m\u001b[0m\u001b[0m\n\u001b[0m\u001b[0;32m     23\u001b[0m \u001b[0meigvals\u001b[0m\u001b[1;33m,\u001b[0m \u001b[0meigvecs\u001b[0m \u001b[1;33m=\u001b[0m \u001b[0meigh\u001b[0m\u001b[1;33m(\u001b[0m\u001b[0mM1\u001b[0m\u001b[1;33m)\u001b[0m\u001b[1;33m\u001b[0m\u001b[1;33m\u001b[0m\u001b[0m\n\u001b[0;32m     24\u001b[0m \u001b[0mind\u001b[0m \u001b[1;33m=\u001b[0m \u001b[0mnp\u001b[0m\u001b[1;33m.\u001b[0m\u001b[0margsort\u001b[0m\u001b[1;33m(\u001b[0m\u001b[0meigvals\u001b[0m\u001b[1;33m)\u001b[0m\u001b[1;33m\u001b[0m\u001b[1;33m\u001b[0m\u001b[0m\n",
      "\u001b[1;31mValueError\u001b[0m: operands could not be broadcast together with shapes (200,200) (201,201) "
     ]
    }
   ],
   "source": [
    "from scipy.linalg import eigh\n",
    "\n",
    "def calculate_field(x, a, numG, k, Vs, in1):\n",
    "    H = 0\n",
    "    countt = 0\n",
    "    for G in np.arange(-numG*2*np.pi/a, numG*2*np.pi/a, 2*np.pi/a):\n",
    "        countt += 1\n",
    "        H += Vs[countt,in1]*np.exp(1j*(k+G)*x)\n",
    "    return H\n",
    "\n",
    "k = np.pi/(15*a)\n",
    "in1 = 20\n",
    "\n",
    "countG1 = 1\n",
    "countG = 1\n",
    "M1 = np.zeros((2*numG+1, 2*numG+1), dtype=complex)\n",
    "\n",
    "for G in np.arange(-numG*2*np.pi/a, numG*2*np.pi/a, 2*np.pi/a):\n",
    "    for G1 in np.arange(-numG*2*np.pi/a, numG*2*np.pi/a, 2*np.pi/a):\n",
    "        M1[countG1-1,countG-1] = chi[countG1-1,countG-1]*(k+G1)*(k+G)\n",
    "        countG += 1\n",
    "    countG1 += 1\n",
    "    countG = 1\n",
    "\n",
    "countG1 = 1\n",
    "\n",
    "eigvals, eigvecs = eigh(M1)\n",
    "ind = np.argsort(eigvals)\n",
    "Ds = eigvals[ind]\n",
    "Vs = eigvecs[:,ind]\n",
    "\n",
    "freq = np.sqrt(abs(Ds[in1-1]))*a/2/np.pi\n",
    "\n",
    "div = 15\n",
    "div1 = 1500\n",
    "x = np.linspace(0, a, div1+1)\n",
    "FieldE = np.abs(calculate_field(x, a, numG, k, Vs, in1))**2\n",
    "\n",
    "alt = np.max(np.abs(FieldE))\n",
    "x1 = np.linspace(0, alt, div+1)\n",
    "y1 = l1*np.ones(div+1)\n",
    "\n",
    "plt.figure(2)\n",
    "plt.plot(y1, x1, linewidth=5)\n",
    "plt.plot(x, FieldE, linewidth=2)\n",
    "plt.xlabel('x(m)', fontsize=20)\n",
    "plt.ylabel('E (V/m)', fontsize=20)\n",
    "#plt.ylim([0, alt])\n",
    "plt.xlim([0, a])\n",
    "plt.show()\n"
   ]
  },
  {
   "cell_type": "code",
   "execution_count": null,
   "metadata": {},
   "outputs": [],
   "source": []
  }
 ],
 "metadata": {
  "kernelspec": {
   "display_name": "base",
   "language": "python",
   "name": "python3"
  },
  "language_info": {
   "codemirror_mode": {
    "name": "ipython",
    "version": 3
   },
   "file_extension": ".py",
   "mimetype": "text/x-python",
   "name": "python",
   "nbconvert_exporter": "python",
   "pygments_lexer": "ipython3",
   "version": "3.9.13"
  },
  "orig_nbformat": 4
 },
 "nbformat": 4,
 "nbformat_minor": 2
}
