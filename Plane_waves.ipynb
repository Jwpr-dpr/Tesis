{
 "cells": [
  {
   "cell_type": "markdown",
   "metadata": {},
   "source": [
    "## Método de Ondas Planas\n",
    "\n",
    "Programa para calcular la estructura de bandas de un cristal\n",
    "Fotónico 1D por medio del método de ondas planas PWE  \n",
    "Referencia: Photonics Crystals, Physics and practical modeling  \n",
    "Igor A. Sukhoivanov and Igor V. Guryev"
   ]
  },
  {
   "cell_type": "code",
   "execution_count": 52,
   "metadata": {},
   "outputs": [],
   "source": [
    "import numpy as np\n",
    "import matplotlib.pyplot as plt\n",
    "\n",
    "l1 = 0.2e-6\n",
    "l2 = 0.8e-6\n",
    "\n",
    "eps1 = 1\n",
    "eps2 = 9\n",
    "\n",
    "a = l1+l2\n",
    "numG = 50\n",
    "\n",
    "G  = np.arange(-numG* 2 * np.pi/a, numG * 2* np.pi/a, 2* np.pi/a)\n",
    "G1 = np.arange(-numG* 2 * np.pi/a, numG * 2* np.pi/a, 2* np.pi/a)\n",
    "chi = np.zeros((len(G),len(G1)),dtype = 'complex_')\n",
    "\n",
    "for i in range(len(G)):\n",
    "    for J in range(len(G1)):\n",
    "        if(G[i] - G1[J]) == 0:\n",
    "            chi[i,J] = 1/(l1+l2) * (1/eps1 * l1 + 1/eps2*l2)\n",
    "        else:\n",
    "            chi[i,J] = 1j /(l1+l2)/(G[i]-G1[J]) * (1/eps1 * np.exp(-1j * (G[i]-G1[J]) * l1) - 1) + 1/eps2 * (np.exp(-1j * (G[i]-G1[J]) * (l1+l2)) - np.exp(-1j * (G[i]-G1[J])*l1))\n"
   ]
  },
  {
   "cell_type": "code",
   "execution_count": 53,
   "metadata": {},
   "outputs": [
    {
     "name": "stdout",
     "output_type": "stream",
     "text": [
      "[[ 2.88888889e-01+0.00000000e+00j  2.28141235e-01+4.30041468e-03j\n",
      "   2.47776352e-01+7.86475259e-02j ...  2.01966310e-01-6.23412869e-02j\n",
      "   2.00047307e-01+6.82473704e-02j  7.52469466e-02+1.06783788e-01j]\n",
      " [ 2.28141235e-01-4.30041468e-03j  2.88888889e-01+0.00000000e+00j\n",
      "   2.28141235e-01+4.30041468e-03j ...  7.83526119e-02-1.04527390e-01j\n",
      "   2.01966310e-01-6.23412869e-02j  2.00047307e-01+6.82473704e-02j]\n",
      " [ 2.47776352e-01-7.86475259e-02j  2.28141235e-01-4.30041468e-03j\n",
      "   2.88888889e-01+0.00000000e+00j ... -5.19661050e-16-1.42597856e-13j\n",
      "   7.83526119e-02-1.04527390e-01j  2.01966310e-01-6.23412869e-02j]\n",
      " ...\n",
      " [ 2.01966310e-01+6.23412869e-02j  7.83526119e-02+1.04527390e-01j\n",
      "  -5.19661050e-16+1.42597856e-13j ...  2.88888889e-01+0.00000000e+00j\n",
      "   2.28141235e-01+4.30041468e-03j  2.47776352e-01+7.86475259e-02j]\n",
      " [ 2.00047307e-01-6.82473704e-02j  2.01966310e-01+6.23412869e-02j\n",
      "   7.83526119e-02+1.04527390e-01j ...  2.28141235e-01-4.30041468e-03j\n",
      "   2.88888889e-01+0.00000000e+00j  2.28141235e-01+4.30041468e-03j]\n",
      " [ 7.52469466e-02-1.06783788e-01j  2.00047307e-01-6.82473704e-02j\n",
      "   2.01966310e-01+6.23412869e-02j ...  2.47776352e-01-7.86475259e-02j\n",
      "   2.28141235e-01-4.30041468e-03j  2.88888889e-01+0.00000000e+00j]]\n",
      "(100, 100)\n"
     ]
    }
   ],
   "source": [
    "print(chi)\n",
    "print(chi.shape)"
   ]
  },
  {
   "cell_type": "code",
   "execution_count": 54,
   "metadata": {},
   "outputs": [],
   "source": [
    "M = np.zeros((len(G),len(G1)),dtype = 'complex_')\n",
    "ks = np.linspace(-2*np.pi/a, 2*np.pi/a,100)\n",
    "Ks = list()\n",
    "dispe = list()\n"
   ]
  },
  {
   "cell_type": "code",
   "execution_count": 55,
   "metadata": {},
   "outputs": [],
   "source": [
    "for k in range(len(ks)):\n",
    "    for i in range(len(G)):\n",
    "        for j in range(len(G1)):\n",
    "            M[j,i] = chi[j,i] * (ks[k] + G1[j]) * (ks[k] + G[i])\n",
    "    V = np.linalg.eig(M)[0]\n",
    "    dispe.append(np.sqrt(np.sort(np.abs(V))) * a/2/np.pi)\n",
    "    Ks.append(ks[k] * a/np.pi)\n",
    "\n",
    "\n"
   ]
  },
  {
   "cell_type": "code",
   "execution_count": 56,
   "metadata": {},
   "outputs": [
    {
     "name": "stdout",
     "output_type": "stream",
     "text": [
      "[3.98947180e-08 3.05579077e-01 3.70520650e-01 6.38331024e-01\n",
      " 7.40172946e-01 9.91373700e-01 1.10770271e+00 1.35420833e+00\n",
      " 1.47073988e+00 1.72168014e+00 1.82403142e+00 2.09142459e+00\n",
      " 2.15648634e+00 2.46019802e+00 2.46220863e+00 2.76425253e+00\n",
      " 2.83313274e+00 3.09721143e+00 3.20341916e+00 3.45099009e+00\n",
      " 3.57187435e+00 3.81459060e+00 3.93624132e+00 4.18283484e+00\n",
      " 4.29126337e+00 4.55340683e+00 4.62450234e+00 4.92359511e+00\n",
      " 4.92532635e+00 5.22218361e+00 5.29719197e+00 5.55459049e+00\n",
      " 5.66889091e+00 5.90974131e+00 6.03921986e+00 6.27490297e+00\n",
      " 6.40622856e+00 6.64467723e+00 6.76506806e+00 7.01679824e+00\n",
      " 7.10203546e+00 7.38972190e+00 7.39591415e+00 7.68198669e+00\n",
      " 7.76420881e+00 8.01266115e+00 8.13816024e+00 8.36995440e+00\n",
      " 8.51135772e+00 8.73761010e+00 8.88230402e+00 9.10982181e+00\n",
      " 9.24705454e+00 9.48440398e+00 9.59209154e+00 9.86018440e+00\n",
      " 9.88167205e+00 1.01491001e+01 1.02374319e+01 1.04785246e+01\n",
      " 1.06148277e+01 1.08405881e+01 1.09923204e+01 1.12135253e+01\n",
      " 1.13690322e+01 1.15913394e+01 1.17424978e+01 1.19722056e+01\n",
      " 1.21024128e+01 1.23547336e+01 1.23985911e+01 1.26323052e+01\n",
      " 1.27435680e+01 1.29632472e+01 1.31340940e+01 1.33375780e+01\n",
      " 1.35315175e+01 1.37256529e+01 1.39436611e+01 1.41245375e+01\n",
      " 1.44479528e+01 1.47897448e+01 1.49558802e+01 1.59733930e+01\n",
      " 1.75273468e+01 2.01095067e+01 2.26981043e+01 2.52801352e+01\n",
      " 2.69284366e+01 2.80748740e+01 3.06539331e+01 3.33364631e+01\n",
      " 3.59067866e+01 3.86295236e+01 4.09468131e+01 4.35992078e+01\n",
      " 4.53420033e+01 4.82299873e+01 9.19091249e+01 1.00970459e+02]\n"
     ]
    }
   ],
   "source": [
    "print(dispe[0])"
   ]
  },
  {
   "cell_type": "code",
   "execution_count": 57,
   "metadata": {},
   "outputs": [
    {
     "data": {
      "image/png": "[encoded data removed]",
      "text/plain": [
       "<Figure size 640x480 with 1 Axes>"
      ]
     },
     "metadata": {},
     "output_type": "display_data"
    }
   ],
   "source": [
    "import matplotlib.pyplot as plt\n",
    "\n",
    "for i in range(len(Ks)):\n",
    "    plt.plot([Ks[i]] * len(dispe[i]), dispe[i],'.',color='black')\n",
    "    plt.xlim([-1,1])\n",
    "    plt.ylim([0,1.5])"
   ]
  },
  {
   "cell_type": "code",
   "execution_count": null,
   "metadata": {},
   "outputs": [],
   "source": []
  }
 ],
 "metadata": {
  "kernelspec": {
   "display_name": "base",
   "language": "python",
   "name": "python3"
  },
  "language_info": {
   "codemirror_mode": {
    "name": "ipython",
    "version": 3
   },
   "file_extension": ".py",
   "mimetype": "text/x-python",
   "name": "python",
   "nbconvert_exporter": "python",
   "pygments_lexer": "ipython3",
   "version": "3.9.13"
  },
  "orig_nbformat": 4
 },
 "nbformat": 4,
 "nbformat_minor": 2
}
