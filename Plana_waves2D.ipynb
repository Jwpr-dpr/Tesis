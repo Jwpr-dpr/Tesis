{
 "cells": [
  {
   "cell_type": "markdown",
   "metadata": {},
   "source": [
    "# Método de Ondas Planas 2D\n",
    "\n",
    "Programa para el cálculo de estructura de bandas en cristales fotónicos 2D"
   ]
  },
  {
   "cell_type": "code",
   "execution_count": 1,
   "metadata": {},
   "outputs": [],
   "source": [
    "import numpy as np\n",
    "import matplotlib.pyplot as plt"
   ]
  },
  {
   "cell_type": "code",
   "execution_count": 2,
   "metadata": {},
   "outputs": [],
   "source": [
    "#normalización\n",
    "a = 1e-6\n",
    "\n",
    "r = 0.4*a              #radio\n",
    "eps1 = 9               #Permitividad del material 1\n",
    "eps2 = 1               #Permitividad del material 2\n",
    "precis = 5             #Número de k-points entre puntos de alta simetría\n",
    "nG = 4                 #Número de ondas planas\n",
    "precisStruct = 30      #Número de nodos de discretización al interior de la celda unitaria\n"
   ]
  },
  {
   "cell_type": "code",
   "execution_count": 3,
   "metadata": {},
   "outputs": [],
   "source": [
    "#Función dieléctrica para los nodos de la malla\n",
    "x = np.arange(-a/2,a/2+a/precisStruct,a/precisStruct)\n",
    "y = np.arange(-a/2,a/2+a/precisStruct,a/precisStruct)\n",
    "\n",
    "xset = list()\n",
    "yset = list()\n",
    "struct = np.zeros((len(x),len(x)))\n",
    "\n",
    "for i in range(len(x)):\n",
    "    for j in range(len(y)):\n",
    "        if(np.sqrt(x[i]**2 + y[j]**2) < r):\n",
    "            struct[i,j] = 1/eps2\n",
    "            xset.append(i)\n",
    "            yset.append(j)\n",
    "        else:\n",
    "            struct[i,j] = 1/eps1\n",
    "            xset.append(i)\n",
    "            yset.append(j) \n",
    "        "
   ]
  },
  {
   "cell_type": "code",
   "execution_count": 4,
   "metadata": {},
   "outputs": [],
   "source": [
    "dS = (a/precisStruct)**2\n",
    "\n",
    "xMesh = np.meshgrid(xset[0:len(xset)-1])\n",
    "yMesh = np.meshgrid(yset[0:len(yset)-1])"
   ]
  },
  {
   "cell_type": "code",
   "execution_count": 5,
   "metadata": {},
   "outputs": [],
   "source": [
    "structMesh = struct[0:len(xset)-1,0:len(yset)-1]*dS/(max(xset) - min(xset))**2"
   ]
  },
  {
   "cell_type": "code",
   "execution_count": 6,
   "metadata": {},
   "outputs": [
    {
     "ename": "ValueError",
     "evalue": "could not broadcast input array from shape (5,) into shape (0,)",
     "output_type": "error",
     "traceback": [
      "\u001b[1;31m---------------------------------------------------------------------------\u001b[0m",
      "\u001b[1;31mValueError\u001b[0m                                Traceback (most recent call last)",
      "\u001b[1;32m~\\AppData\\Local\\Temp\\ipykernel_16684\\4073160738.py\u001b[0m in \u001b[0;36m<module>\u001b[1;34m\u001b[0m\n\u001b[0;32m      3\u001b[0m \u001b[1;33m\u001b[0m\u001b[0m\n\u001b[0;32m      4\u001b[0m \u001b[0mkx\u001b[0m\u001b[1;33m[\u001b[0m\u001b[0mprecis\u001b[0m\u001b[1;33m+\u001b[0m\u001b[1;36m1\u001b[0m\u001b[1;33m:\u001b[0m\u001b[1;36m2\u001b[0m\u001b[1;33m*\u001b[0m\u001b[0mprecis\u001b[0m\u001b[1;33m+\u001b[0m\u001b[1;36m1\u001b[0m\u001b[1;33m]\u001b[0m \u001b[1;33m=\u001b[0m \u001b[0mnp\u001b[0m\u001b[1;33m.\u001b[0m\u001b[0mpi\u001b[0m\u001b[1;33m/\u001b[0m\u001b[0ma\u001b[0m\u001b[1;33m\u001b[0m\u001b[1;33m\u001b[0m\u001b[0m\n\u001b[1;32m----> 5\u001b[1;33m \u001b[0mky\u001b[0m\u001b[1;33m[\u001b[0m\u001b[0mprecis\u001b[0m\u001b[1;33m+\u001b[0m\u001b[1;36m1\u001b[0m\u001b[1;33m:\u001b[0m\u001b[1;36m2\u001b[0m\u001b[1;33m*\u001b[0m\u001b[0mprecis\u001b[0m\u001b[1;33m+\u001b[0m\u001b[1;36m1\u001b[0m\u001b[1;33m]\u001b[0m \u001b[1;33m=\u001b[0m \u001b[0mnp\u001b[0m\u001b[1;33m.\u001b[0m\u001b[0mlinspace\u001b[0m\u001b[1;33m(\u001b[0m\u001b[0mnp\u001b[0m\u001b[1;33m.\u001b[0m\u001b[0mpi\u001b[0m\u001b[1;33m/\u001b[0m\u001b[0ma\u001b[0m\u001b[1;33m/\u001b[0m\u001b[0mprecis\u001b[0m\u001b[1;33m,\u001b[0m \u001b[0mnp\u001b[0m\u001b[1;33m.\u001b[0m\u001b[0mpi\u001b[0m\u001b[1;33m/\u001b[0m\u001b[0ma\u001b[0m\u001b[1;33m,\u001b[0m \u001b[0mprecis\u001b[0m\u001b[1;33m)\u001b[0m\u001b[1;33m\u001b[0m\u001b[1;33m\u001b[0m\u001b[0m\n\u001b[0m",
      "\u001b[1;31mValueError\u001b[0m: could not broadcast input array from shape (5,) into shape (0,)"
     ]
    }
   ],
   "source": [
    "kx = np.linspace(0, np.pi/a, precis+1)\n",
    "ky = np.zeros(precis+1)\n",
    "\n",
    "kx[precis+1:2*precis+1] = np.pi/a\n",
    "ky[precis+1:2*precis+1] = np.linspace(np.pi/a/precis, np.pi/a, precis)"
   ]
  },
  {
   "cell_type": "code",
   "execution_count": 7,
   "metadata": {},
   "outputs": [
    {
     "data": {
      "image/png": "[encoded data removed]",
      "text/plain": [
       "<Figure size 640x480 with 1 Axes>"
      ]
     },
     "metadata": {},
     "output_type": "display_data"
    },
    {
     "ename": "ValueError",
     "evalue": "could not broadcast input array from shape (6,) into shape (5,)",
     "output_type": "error",
     "traceback": [
      "\u001b[1;31m---------------------------------------------------------------------------\u001b[0m",
      "\u001b[1;31mValueError\u001b[0m                                Traceback (most recent call last)",
      "\u001b[1;32m~\\AppData\\Local\\Temp\\ipykernel_16684\\87098118.py\u001b[0m in \u001b[0;36m<module>\u001b[1;34m\u001b[0m\n\u001b[0;32m     56\u001b[0m \u001b[1;33m\u001b[0m\u001b[0m\n\u001b[0;32m     57\u001b[0m \u001b[1;31m# MG\u001b[0m\u001b[1;33m\u001b[0m\u001b[1;33m\u001b[0m\u001b[0m\n\u001b[1;32m---> 58\u001b[1;33m \u001b[0mkx\u001b[0m\u001b[1;33m[\u001b[0m\u001b[1;36m2\u001b[0m\u001b[1;33m*\u001b[0m\u001b[0mprecis\u001b[0m\u001b[1;33m+\u001b[0m\u001b[1;36m1\u001b[0m\u001b[1;33m:\u001b[0m\u001b[1;33m]\u001b[0m \u001b[1;33m=\u001b[0m \u001b[0mnp\u001b[0m\u001b[1;33m.\u001b[0m\u001b[0mlinspace\u001b[0m\u001b[1;33m(\u001b[0m\u001b[0mnp\u001b[0m\u001b[1;33m.\u001b[0m\u001b[0mpi\u001b[0m\u001b[1;33m/\u001b[0m\u001b[0ma\u001b[0m\u001b[1;33m,\u001b[0m \u001b[1;36m0\u001b[0m\u001b[1;33m,\u001b[0m \u001b[0mprecis\u001b[0m\u001b[1;33m+\u001b[0m\u001b[1;36m1\u001b[0m\u001b[1;33m)\u001b[0m\u001b[1;33m\u001b[0m\u001b[1;33m\u001b[0m\u001b[0m\n\u001b[0m\u001b[0;32m     59\u001b[0m \u001b[0mky\u001b[0m\u001b[1;33m[\u001b[0m\u001b[1;36m2\u001b[0m\u001b[1;33m*\u001b[0m\u001b[0mprecis\u001b[0m\u001b[1;33m+\u001b[0m\u001b[1;36m1\u001b[0m\u001b[1;33m:\u001b[0m\u001b[1;33m]\u001b[0m \u001b[1;33m=\u001b[0m \u001b[0mnp\u001b[0m\u001b[1;33m.\u001b[0m\u001b[0mlinspace\u001b[0m\u001b[1;33m(\u001b[0m\u001b[0mnp\u001b[0m\u001b[1;33m.\u001b[0m\u001b[0mpi\u001b[0m\u001b[1;33m/\u001b[0m\u001b[0ma\u001b[0m\u001b[1;33m,\u001b[0m \u001b[1;36m0\u001b[0m\u001b[1;33m,\u001b[0m \u001b[0mprecis\u001b[0m\u001b[1;33m+\u001b[0m\u001b[1;36m1\u001b[0m\u001b[1;33m)\u001b[0m\u001b[1;33m\u001b[0m\u001b[1;33m\u001b[0m\u001b[0m\n",
      "\u001b[1;31mValueError\u001b[0m: could not broadcast input array from shape (6,) into shape (5,)"
     ]
    }
   ],
   "source": [
    "import numpy as np\n",
    "import matplotlib.pyplot as plt\n",
    "\n",
    "# Definir constantes\n",
    "a = 1e-6\n",
    "r = 0.4 * a\n",
    "eps1 = 9\n",
    "eps2 = 1\n",
    "precis = 5\n",
    "nG = 4\n",
    "precisStruct = 150\n",
    "\n",
    "# Inicializar struct y coordenadas\n",
    "struct = np.zeros((precisStruct+1, precisStruct+1))\n",
    "xSet = np.zeros(precisStruct+1)\n",
    "ySet = np.zeros(precisStruct+1)\n",
    "\n",
    "# Definir celda unitaria\n",
    "for nx in range(precisStruct+1):\n",
    "    countX = -a/2 + nx*a/precisStruct\n",
    "    for ny in range(precisStruct+1):\n",
    "        countY = -a/2 + ny*a/precisStruct\n",
    "        if np.sqrt(countX**2 + countY**2) < r:\n",
    "            struct[nx, ny] = 1/eps2\n",
    "            xSet[nx] = countX\n",
    "            ySet[ny] = countY\n",
    "        else:\n",
    "            struct[nx, ny] = 1/eps1\n",
    "            xSet[nx] = countX\n",
    "            ySet[ny] = countY\n",
    "\n",
    "# Plot struct\n",
    "plt.imshow(struct)\n",
    "plt.show()\n",
    "\n",
    "# Calcular el área de la celda de malla\n",
    "dS = (a/precisStruct)**2\n",
    "\n",
    "# Formar matrices 2D de coordenadas de nodos\n",
    "xMesh, yMesh = np.meshgrid(xSet[:-1], ySet[:-1])\n",
    "\n",
    "# Transformar valores de la función dieléctrica inversa\n",
    "structMesh = struct[:-1, :-1] * dS / (max(xSet) - min(xSet))**2\n",
    "\n",
    "# Definir la trayectoria k dentro de la zona de Brillouin\n",
    "kx = np.zeros(3*precis+1)\n",
    "ky = np.zeros(3*precis+1)\n",
    "\n",
    "# GX\n",
    "kx[:precis+1] = np.linspace(0, np.pi/a, precis+1)\n",
    "ky[:precis+1] = 0\n",
    "\n",
    "# XM\n",
    "kx[precis+1:2*precis+1] = np.pi/a\n",
    "ky[precis+1:2*precis+1] = np.linspace(0, np.pi/a, precis)\n",
    "\n",
    "# MG\n",
    "kx[2*precis+1:] = np.linspace(np.pi/a, 0, precis+1)\n",
    "ky[2*precis+1:] = np.linspace(np.pi/a, 0, precis+1)\n"
   ]
  }
 ],
 "metadata": {
  "kernelspec": {
   "display_name": "base",
   "language": "python",
   "name": "python3"
  },
  "language_info": {
   "codemirror_mode": {
    "name": "ipython",
    "version": 3
   },
   "file_extension": ".py",
   "mimetype": "text/x-python",
   "name": "python",
   "nbconvert_exporter": "python",
   "pygments_lexer": "ipython3",
   "version": "3.9.13"
  },
  "orig_nbformat": 4
 },
 "nbformat": 4,
 "nbformat_minor": 2
}
