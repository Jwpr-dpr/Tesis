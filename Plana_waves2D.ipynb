{
 "cells": [
  {
   "cell_type": "markdown",
   "metadata": {},
   "source": [
    "# Método de Ondas Planas 2D\n",
    "\n",
    "Programa para el cálculo de estructura de bandas en cristales fotónicos 2D"
   ]
  },
  {
   "cell_type": "code",
   "execution_count": 1,
   "metadata": {},
   "outputs": [],
   "source": [
    "import numpy as np\n",
    "import matplotlib.pyplot as plt"
   ]
  },
  {
   "cell_type": "code",
   "execution_count": 2,
   "metadata": {},
   "outputs": [],
   "source": [
    "#normalización\n",
    "a = 1e-6\n",
    "\n",
    "r = 0.4*a              #radio\n",
    "eps1 = 9               #Permitividad del material 1\n",
    "eps2 = 1               #Permitividad del material 2\n",
    "precis = 5             #Número de k-points entre puntos de alta simetría\n",
    "nG = 4                 #Número de ondas planas\n",
    "precisStruct = 30      #Número de nodos de discretización al interior de la celda unitaria\n"
   ]
  },
  {
   "cell_type": "code",
   "execution_count": 12,
   "metadata": {},
   "outputs": [],
   "source": [
    "#Función dieléctrica para los nodos de la malla\n",
    "x = np.arange(-a/2,a/2+a/precisStruct,a/precisStruct)\n",
    "y = np.arange(-a/2,a/2+a/precisStruct,a/precisStruct)\n",
    "\n",
    "xset = list()\n",
    "yset = list()\n",
    "struct = np.zeros((len(x),len(x)))\n",
    "\n",
    "for i in range(len(x)):\n",
    "    for j in range(len(y)):\n",
    "        if(np.sqrt(x[i]**2 + y[j]**2) < r):\n",
    "            struct[i,j] = 1/eps2\n",
    "            xset.append(i)\n",
    "            yset.append(j)\n",
    "        else:\n",
    "            struct[i,j] = 1/eps1\n",
    "            xset.append(i)\n",
    "            yset.append(j) \n",
    "        "
   ]
  },
  {
   "cell_type": "code",
   "execution_count": 14,
   "metadata": {},
   "outputs": [],
   "source": [
    "dS = (a/precisStruct)**2\n",
    "\n",
    "xMesh = np.meshgrid(xset[0:len(xset)-1])\n",
    "yMesh = np.meshgrid(yset[0:len(yset)-1])"
   ]
  },
  {
   "cell_type": "code",
   "execution_count": 17,
   "metadata": {},
   "outputs": [],
   "source": [
    "structMesh = struct[0:len(xset)-1,0:len(yset)-1]*dS/(max(xset) - min(xset))**2"
   ]
  },
  {
   "cell_type": "code",
   "execution_count": 19,
   "metadata": {},
   "outputs": [
    {
     "ename": "SyntaxError",
     "evalue": "invalid syntax (1769260183.py, line 2)",
     "output_type": "error",
     "traceback": [
      "\u001b[1;36m  File \u001b[1;32m\"C:\\Users\\Dell\\AppData\\Local\\Temp\\ipykernel_11240\\1769260183.py\"\u001b[1;36m, line \u001b[1;32m2\u001b[0m\n\u001b[1;33m    kx[0:precis] = 0:np.pi/a/precis:pi:a\u001b[0m\n\u001b[1;37m                    ^\u001b[0m\n\u001b[1;31mSyntaxError\u001b[0m\u001b[1;31m:\u001b[0m invalid syntax\n"
     ]
    }
   ],
   "source": []
  },
  {
   "cell_type": "code",
   "execution_count": null,
   "metadata": {},
   "outputs": [],
   "source": []
  }
 ],
 "metadata": {
  "kernelspec": {
   "display_name": "base",
   "language": "python",
   "name": "python3"
  },
  "language_info": {
   "codemirror_mode": {
    "name": "ipython",
    "version": 3
   },
   "file_extension": ".py",
   "mimetype": "text/x-python",
   "name": "python",
   "nbconvert_exporter": "python",
   "pygments_lexer": "ipython3",
   "version": "3.9.13"
  },
  "orig_nbformat": 4
 },
 "nbformat": 4,
 "nbformat_minor": 2
}
