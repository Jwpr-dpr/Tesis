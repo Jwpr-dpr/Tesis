{
 "cells": [
  {
   "cell_type": "markdown",
   "metadata": {},
   "source": [
    "## Matriz de Transferencia: Método de Pochi-Yet"
   ]
  },
  {
   "cell_type": "code",
   "execution_count": 2,
   "metadata": {},
   "outputs": [],
   "source": [
    "import numpy as np\n",
    "import matplotlib.pyplot as plt"
   ]
  },
  {
   "cell_type": "code",
   "execution_count": 3,
   "metadata": {},
   "outputs": [],
   "source": [
    "num_rep = 2\n",
    "num = 2*num_rep\n",
    "ni = 1 #índice de refracción del medio incidente\n",
    "nf = 1 #índice de refracción del medio de salida\n",
    "a_0 = 20 * np.pi / 180 # Para incidencias oblicuas\n",
    "na = 3.0 #índice de refracción de la capa A\n",
    "nb = 1.0 #índice de refracción de la capa B\n",
    "a = 111.11 #Tamaño de la capa A, en micrómetros\n",
    "b = 166.66 #Tamaño de la capa B, en micrómetros\n",
    "\n",
    "\n",
    "def refractions(num,ni,nf,na,nb):\n",
    "    '''\n",
    "    Función para crear el arreglo de índices de refracción\n",
    "    usamos las siguientes variables:\n",
    "    Argumentos\n",
    "    num = numero de repeticiones\n",
    "    ni = indice de refracción del incidente\n",
    "    nf = indice de refracción de salida\n",
    "    na = indice de refracción de la capa a\n",
    "    nb = indice de refracción de la capa b\n",
    "    '''\n",
    "    n = [ni]   \n",
    "    for i in range(int(num/2)):\n",
    "        n.append(na)\n",
    "        n.append(nb)\n",
    "    n.append(nf)\n",
    "    return np.array(n)\n",
    "    \n",
    "def sizes(size_a,size_b,refraction_list):\n",
    "    '''\n",
    "    función para crear el arreglo de los tamaños de las capas\n",
    "    Argumentos\n",
    "    size_a = tamaño de la capa A\n",
    "    size_b = tamaño de la capa B\n",
    "    refraction_list = la lista con los índices de refracción, para usar como referencia\n",
    "    '''\n",
    "    d = refraction_list[1:-1]\n",
    "    l = len(d)\n",
    "    #nas = [size_a for i in range(l)]\n",
    "    #nbs = [size_b for i in range(l)]\n",
    "    n = []\n",
    "    for i in range(int(num/2)):\n",
    "        n.append(size_a)\n",
    "        n.append(size_b)\n",
    "\n",
    "    return np.array(n)\n",
    "\n",
    "def positions(sizes):\n",
    "    '''\n",
    "    Función para crear el arreglo de las posiciones de cada capa\n",
    "    Argumentos\n",
    "    sizes = arreglo de los tamaños de las capas\n",
    "    '''\n",
    "    pos = [0]\n",
    "    for i in range(len(sizes)):\n",
    "        pos.append(pos[i] + sizes[i])\n",
    "    return np.array(pos)\n",
    "\n"
   ]
  },
  {
   "cell_type": "code",
   "execution_count": 4,
   "metadata": {},
   "outputs": [
    {
     "data": {
      "text/plain": [
       "array([1., 3., 1., 3., 1., 1.])"
      ]
     },
     "execution_count": 4,
     "metadata": {},
     "output_type": "execute_result"
    }
   ],
   "source": [
    "n = refractions(num,ni,nf,na,nb)\n",
    "n"
   ]
  },
  {
   "cell_type": "code",
   "execution_count": 5,
   "metadata": {},
   "outputs": [
    {
     "data": {
      "text/plain": [
       "array([111.11, 166.66, 111.11, 166.66])"
      ]
     },
     "execution_count": 5,
     "metadata": {},
     "output_type": "execute_result"
    }
   ],
   "source": [
    "d = sizes(a,b,n)\n",
    "d"
   ]
  },
  {
   "cell_type": "code",
   "execution_count": 6,
   "metadata": {},
   "outputs": [
    {
     "data": {
      "text/plain": [
       "array([  0.  , 111.11, 277.77, 388.88, 555.54])"
      ]
     },
     "execution_count": 6,
     "metadata": {},
     "output_type": "execute_result"
    }
   ],
   "source": [
    "pos = positions(d)\n",
    "pos"
   ]
  },
  {
   "cell_type": "code",
   "execution_count": 7,
   "metadata": {},
   "outputs": [
    {
     "data": {
      "text/plain": [
       "array([1., 3., 1., 3., 1., 1.])"
      ]
     },
     "execution_count": 7,
     "metadata": {},
     "output_type": "execute_result"
    }
   ],
   "source": [
    "n"
   ]
  },
  {
   "cell_type": "markdown",
   "metadata": {},
   "source": [
    "Cálculo de los ángulos"
   ]
  },
  {
   "cell_type": "code",
   "execution_count": 8,
   "metadata": {},
   "outputs": [],
   "source": [
    "def angles(a_0, refractions):\n",
    "    '''\n",
    "    función para el cálculo de los ángulos basado en los índices de refracción\n",
    "    Argumentos:\n",
    "    a_0 = ángulo inicial \n",
    "    refractions = arreglo que contiene los índices de refracción al interior del cristal\n",
    "    '''\n",
    "    a0 = a_0\n",
    "    Ang = np.zeros(num+2)\n",
    "    Ang[0] = a0\n",
    "    for i in range(1,len(Ang)):\n",
    "        Ang[i] = np.arcsin(refractions[i-1] / refractions[i] * np.sin(Ang[i-1]))\n",
    "\n",
    "    \n",
    "    return Ang[1:]\n"
   ]
  },
  {
   "cell_type": "code",
   "execution_count": 9,
   "metadata": {},
   "outputs": [
    {
     "data": {
      "text/plain": [
       "array([0.11425514, 0.34906585, 0.11425514, 0.34906585, 0.34906585])"
      ]
     },
     "execution_count": 9,
     "metadata": {},
     "output_type": "execute_result"
    }
   ],
   "source": [
    "Ang = angles(a_0,n)\n",
    "Ang"
   ]
  },
  {
   "cell_type": "markdown",
   "metadata": {},
   "source": [
    "Vectores de onda para cada capa"
   ]
  },
  {
   "cell_type": "code",
   "execution_count": 10,
   "metadata": {},
   "outputs": [],
   "source": [
    "def k(Lambda,Angles,refractions):\n",
    "    tabla = np.ones((len(Angles)))\n",
    "    for i in range(len(tabla)):\n",
    "        tabla[i] = tabla[i] * 2 * np.pi/Lambda * np.cos(Angles[i]) * refractions[i]        \n",
    "    return tabla[:-1] \n",
    "\n",
    "def k_i(Lambda, a0, ni):\n",
    "    return 2 * (np.pi/Lambda) * np.cos(a0) * ni\n",
    "\n",
    "def k_f(Lambda, Angles, nf ):\n",
    "    return 2 * (np.pi/Lambda) * np.cos(Angles[-1]) * nf\n"
   ]
  },
  {
   "cell_type": "code",
   "execution_count": 11,
   "metadata": {},
   "outputs": [
    {
     "data": {
      "text/plain": [
       "array([1.24844376, 3.54255772, 1.24844376, 3.54255772])"
      ]
     },
     "execution_count": 11,
     "metadata": {},
     "output_type": "execute_result"
    }
   ],
   "source": [
    "k(5,Ang,n)"
   ]
  },
  {
   "cell_type": "markdown",
   "metadata": {},
   "source": [
    "Matrices dinámicas de las capas "
   ]
  },
  {
   "cell_type": "code",
   "execution_count": 12,
   "metadata": {},
   "outputs": [],
   "source": [
    "def dinamic_matrix(refractions, angles,num):\n",
    "    '''\n",
    "    función para calcular la matriz dinámica de las capas internas\n",
    "    refractions = lista que contiene los indices de refracción de las capas\n",
    "    angles = lista que contiene los angulos de refracción en las capas\n",
    "    num = número de capas\n",
    "    '''\n",
    "    md = []\n",
    "    for i in range(num):\n",
    "        inner_list = [[1, 1], [-refractions[i] * np.cos(angles[i]), refractions[i] * np.cos(angles[i])]]\n",
    "        md.append(inner_list)\n",
    "    return np.array(md)    \n",
    "\n",
    "def dinamic_matrix_i(a0,ni):\n",
    "    mdi = [[1,1],[-ni*np.cos(a0), ni*np.cos(a0)]]\n",
    "    return np.array(mdi)\n",
    "\n",
    "def dinamic_matrix_f(nf,angles):\n",
    "    mdf = [[1,1],[-nf* np.cos(angles[-1]), nf*np.cos(angles[-1])]]\n",
    "    return np.array(mdf)"
   ]
  },
  {
   "cell_type": "code",
   "execution_count": 13,
   "metadata": {},
   "outputs": [
    {
     "data": {
      "text/plain": [
       "array([[[ 1.        ,  1.        ],\n",
       "        [-0.99347998,  0.99347998]],\n",
       "\n",
       "       [[ 1.        ,  1.        ],\n",
       "        [-2.81907786,  2.81907786]],\n",
       "\n",
       "       [[ 1.        ,  1.        ],\n",
       "        [-0.99347998,  0.99347998]],\n",
       "\n",
       "       [[ 1.        ,  1.        ],\n",
       "        [-2.81907786,  2.81907786]]])"
      ]
     },
     "execution_count": 13,
     "metadata": {},
     "output_type": "execute_result"
    }
   ],
   "source": [
    "md = dinamic_matrix(n,Ang,num)\n",
    "md"
   ]
  },
  {
   "cell_type": "code",
   "execution_count": 14,
   "metadata": {},
   "outputs": [
    {
     "data": {
      "text/plain": [
       "array([[ 1.        ,  1.        ],\n",
       "       [-0.93969262,  0.93969262]])"
      ]
     },
     "execution_count": 14,
     "metadata": {},
     "output_type": "execute_result"
    }
   ],
   "source": [
    "mdi = dinamic_matrix_i(a_0,ni)\n",
    "mdi"
   ]
  },
  {
   "cell_type": "code",
   "execution_count": 15,
   "metadata": {},
   "outputs": [
    {
     "data": {
      "text/plain": [
       "array([[ 1.        ,  1.        ],\n",
       "       [-0.93969262,  0.93969262]])"
      ]
     },
     "execution_count": 15,
     "metadata": {},
     "output_type": "execute_result"
    }
   ],
   "source": [
    "mdf = dinamic_matrix_f(nf,Ang)\n",
    "mdf"
   ]
  },
  {
   "cell_type": "markdown",
   "metadata": {},
   "source": [
    "Matriz de Propagación"
   ]
  },
  {
   "cell_type": "code",
   "execution_count": 16,
   "metadata": {},
   "outputs": [],
   "source": [
    "def propagation_matrix(w,Ang,distances):\n",
    "    mp = []\n",
    "\n",
    "# Calculate matrices based on the given formula\n",
    "    for i in range(num):\n",
    "        matrix = np.array([\n",
    "            [np.exp(-1j * k(w,Ang,n)[i] * distances[i]), 0],\n",
    "            [0, np.exp(1j * k(w,Ang,n)[i] * distances[i])]\n",
    "        ])\n",
    "        mp.append(matrix)\n",
    "\n",
    "    return np.array(mp)"
   ]
  },
  {
   "cell_type": "code",
   "execution_count": 17,
   "metadata": {},
   "outputs": [
    {
     "data": {
      "text/plain": [
       "array([[[0.88490347-0.46577446j, 0.        +0.j        ],\n",
       "        [0.        +0.j        , 0.88490347+0.46577446j]],\n",
       "\n",
       "       [[0.97660173+0.21505594j, 0.        +0.j        ],\n",
       "        [0.        +0.j        , 0.97660173-0.21505594j]],\n",
       "\n",
       "       [[0.88490347-0.46577446j, 0.        +0.j        ],\n",
       "        [0.        +0.j        , 0.88490347+0.46577446j]],\n",
       "\n",
       "       [[0.97660173+0.21505594j, 0.        +0.j        ],\n",
       "        [0.        +0.j        , 0.97660173-0.21505594j]]])"
      ]
     },
     "execution_count": 17,
     "metadata": {},
     "output_type": "execute_result"
    }
   ],
   "source": [
    "mp = propagation_matrix(5,Ang,d)\n",
    "mp"
   ]
  },
  {
   "cell_type": "code",
   "execution_count": 18,
   "metadata": {},
   "outputs": [],
   "source": [
    "def A(x, k, a, b):\n",
    "    return np.exp(-1j * k(x,Ang,n)[0] * a) * np.cos(k(x,Ang,n)[1] * b) - 1j / 2 * np.sin(k(x,Ang,n)[1] * b) * (k(x,Ang,n)[1] / k(x,Ang,n)[0] + k(x,Ang,n)[0] / k(x,Ang,n)[1])\n",
    "\n",
    "\n"
   ]
  },
  {
   "cell_type": "code",
   "execution_count": 19,
   "metadata": {},
   "outputs": [
    {
     "data": {
      "text/plain": [
       "(0.30142590567589816+0.020637085944767875j)"
      ]
     },
     "execution_count": 19,
     "metadata": {},
     "output_type": "execute_result"
    }
   ],
   "source": [
    "A(2,k,a,b)"
   ]
  },
  {
   "cell_type": "code",
   "execution_count": null,
   "metadata": {},
   "outputs": [],
   "source": []
  }
 ],
 "metadata": {
  "kernelspec": {
   "display_name": "base",
   "language": "python",
   "name": "python3"
  },
  "language_info": {
   "codemirror_mode": {
    "name": "ipython",
    "version": 3
   },
   "file_extension": ".py",
   "mimetype": "text/x-python",
   "name": "python",
   "nbconvert_exporter": "python",
   "pygments_lexer": "ipython3",
   "version": "3.9.13"
  },
  "orig_nbformat": 4
 },
 "nbformat": 4,
 "nbformat_minor": 2
}
